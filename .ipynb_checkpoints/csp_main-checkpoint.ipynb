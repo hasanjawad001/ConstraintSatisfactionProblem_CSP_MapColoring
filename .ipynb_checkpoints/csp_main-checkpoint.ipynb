{
 "cells": [
  {
   "cell_type": "code",
   "execution_count": 50,
   "metadata": {},
   "outputs": [],
   "source": [
    "list_node = []\n",
    "list_constraint = []\n",
    "f = open(\"map_aus.txt\", \"r\") # need to use \"map_usa.txt\" for usa color mapping\n",
    "lines = f.readlines()\n",
    "lines = [line.replace('\\n', '').replace(' ','').replace('[','').replace(']','') for line in lines]\n",
    "for line in lines:\n",
    "    list_elems = line.split(':')\n",
    "    s = list_elems[0]\n",
    "    list_d = list_elems[1].split(',')\n",
    "    if s not in list_node and s != '':\n",
    "        list_node.append(s)\n",
    "    for d in list_d:\n",
    "        if d not in list_node and d != '':\n",
    "            list_node.append(d)\n",
    "    for d in list_d:\n",
    "        if d != s and (s, d) not in list_constraint and (d, s) not in list_constraint and s!='' and d!='':\n",
    "            list_constraint.append((s,d))"
   ]
  },
  {
   "cell_type": "code",
   "execution_count": 51,
   "metadata": {},
   "outputs": [
    {
     "data": {
      "text/plain": [
       "(['NSW', 'Q', 'SA', 'V', 'NT', 'WA', 'T'],\n",
       " [('NSW', 'Q'),\n",
       "  ('NSW', 'SA'),\n",
       "  ('NSW', 'V'),\n",
       "  ('NT', 'SA'),\n",
       "  ('NT', 'Q'),\n",
       "  ('NT', 'WA'),\n",
       "  ('Q', 'SA'),\n",
       "  ('SA', 'V'),\n",
       "  ('SA', 'WA')])"
      ]
     },
     "execution_count": 51,
     "metadata": {},
     "output_type": "execute_result"
    }
   ],
   "source": [
    "list_node, list_constraint"
   ]
  },
  {
   "cell_type": "code",
   "execution_count": 52,
   "metadata": {},
   "outputs": [
    {
     "name": "stdout",
     "output_type": "stream",
     "text": [
      "NSW  ===  \n",
      "Q  ===  \n",
      "SA  ===  \n",
      "V  ===  \n",
      "NT  ===  \n",
      "WA  ===  \n",
      "T  ===  \n"
     ]
    }
   ],
   "source": [
    "import networkx as nx\n",
    "import matplotlib.pyplot as plt\n",
    "G = nx.Graph()\n",
    "G.add_nodes_from(list_node, color = '')\n",
    "G.add_edges_from(list_constraint)\n",
    "for n in G.nodes(data=True):\n",
    "    print(n[0], ' === ', n[1]['color'])"
   ]
  },
  {
   "cell_type": "code",
   "execution_count": 49,
   "metadata": {},
   "outputs": [],
   "source": []
  },
  {
   "cell_type": "code",
   "execution_count": 49,
   "metadata": {},
   "outputs": [
    {
     "data": {
      "text/plain": [
       "[0, 1, 2]"
      ]
     },
     "execution_count": 49,
     "metadata": {},
     "output_type": "execute_result"
    }
   ],
   "source": [
    "no_of_color = 3\n",
    "list_color = [c for c in range(no_of_color)]\n",
    "success = check_map_color(G, list_color)\n",
    "if success:\n",
    "    print(\"chromatic number X(G) = \", )"
   ]
  },
  {
   "cell_type": "code",
   "execution_count": null,
   "metadata": {},
   "outputs": [],
   "source": []
  }
 ],
 "metadata": {
  "kernelspec": {
   "display_name": "Python 3",
   "language": "python",
   "name": "python3"
  },
  "language_info": {
   "codemirror_mode": {
    "name": "ipython",
    "version": 3
   },
   "file_extension": ".py",
   "mimetype": "text/x-python",
   "name": "python",
   "nbconvert_exporter": "python",
   "pygments_lexer": "ipython3",
   "version": "3.6.9"
  }
 },
 "nbformat": 4,
 "nbformat_minor": 4
}
